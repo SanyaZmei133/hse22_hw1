{
  "nbformat": 4,
  "nbformat_minor": 0,
  "metadata": {
    "colab": {
      "provenance": []
    },
    "kernelspec": {
      "name": "python3",
      "display_name": "Python 3"
    },
    "language_info": {
      "name": "python"
    }
  },
  "cells": [
    {
      "cell_type": "code",
      "execution_count": 1,
      "metadata": {
        "colab": {
          "base_uri": "https://localhost:8080/"
        },
        "id": "HxcWjg0pqXvO",
        "outputId": "8a1259e7-5993-4094-b8bc-b87f8a7ca273"
      },
      "outputs": [
        {
          "output_type": "stream",
          "name": "stdout",
          "text": [
            "Looking in indexes: https://pypi.org/simple, https://us-python.pkg.dev/colab-wheels/public/simple/\n",
            "Collecting biopython\n",
            "  Downloading biopython-1.79-cp37-cp37m-manylinux_2_5_x86_64.manylinux1_x86_64.whl (2.3 MB)\n",
            "\u001b[K     |████████████████████████████████| 2.3 MB 23.9 MB/s \n",
            "\u001b[?25hRequirement already satisfied: numpy in /usr/local/lib/python3.7/dist-packages (from biopython) (1.21.6)\n",
            "Installing collected packages: biopython\n",
            "Successfully installed biopython-1.79\n"
          ]
        }
      ],
      "source": [
        "!pip install biopython"
      ]
    },
    {
      "cell_type": "code",
      "source": [
        "from Bio import SeqIO\n",
        "import re"
      ],
      "metadata": {
        "id": "YHLjqs8OyLTs"
      },
      "execution_count": 2,
      "outputs": []
    },
    {
      "cell_type": "code",
      "source": [
        "def N50(lengths, sum_length):\n",
        "  current_sum_length = 0\n",
        "  for length in sorted(lengths, reverse=True):\n",
        "    current_sum_length += length\n",
        "    if current_sum_length / sum_length >= 0.5:\n",
        "      N50 = length\n",
        "      break\n",
        "  return N50\n"
      ],
      "metadata": {
        "id": "fQBuDrhJyNsJ"
      },
      "execution_count": 3,
      "outputs": []
    },
    {
      "cell_type": "code",
      "source": [
        "def analise(filename, text):\n",
        "  #С помощью SeqIO.parse() получаем итератор из всех последовательностей файла, затем с помощью map() считаем длину каждой и получаем список\n",
        "  lengths = list(map(len, SeqIO.parse(open(filename, 'r'), 'fasta')))\n",
        "  #Общая длина последовательностей\n",
        "  sum_length = sum(lengths)\n",
        "\n",
        "  print(f'Анализ полученных {text}:')\n",
        "  print(f'·Количество: {len(lengths)}')\n",
        "  print(f'·Общая длина: {sum_length}')\n",
        "  print(f'·Максимальная длина: {max(lengths)}')\n",
        "  print(f'·N50: {N50(lengths,sum_length)}')\n",
        "  return"
      ],
      "metadata": {
        "id": "1qyorm67yRdN"
      },
      "execution_count": 4,
      "outputs": []
    },
    {
      "cell_type": "code",
      "source": [
        "analise('Poil_contig.fa', 'контигов')"
      ],
      "metadata": {
        "colab": {
          "base_uri": "https://localhost:8080/"
        },
        "id": "2Xw6qBBGyXN2",
        "outputId": "33bbbb40-d0e0-470e-e414-44b145b01ed2"
      },
      "execution_count": 6,
      "outputs": [
        {
          "output_type": "stream",
          "name": "stdout",
          "text": [
            "Анализ полученных контигов:\n",
            "·Количество: 1277\n",
            "·Общая длина: 3914172\n",
            "·Максимальная длина: 187087\n",
            "·N50: 67003\n"
          ]
        }
      ]
    },
    {
      "cell_type": "code",
      "source": [
        "analise('Poil_scaffold.fa', 'скаффолдов')"
      ],
      "metadata": {
        "colab": {
          "base_uri": "https://localhost:8080/"
        },
        "id": "fjLoxgGuycLb",
        "outputId": "c4e1aa47-b37a-4357-8a81-317cc9a083dd"
      },
      "execution_count": 7,
      "outputs": [
        {
          "output_type": "stream",
          "name": "stdout",
          "text": [
            "Анализ полученных скаффолдов:\n",
            "·Количество: 153\n",
            "·Общая длина: 3853384\n",
            "·Максимальная длина: 1907162\n",
            "·N50: 1890955\n"
          ]
        }
      ]
    },
    {
      "cell_type": "code",
      "source": [
        "def gap(filename,text):\n",
        "  print(f'{text} gapClosed:')\n",
        "  #Получаем максимально длинный скаффолд\n",
        "  scaffold = max(SeqIO.parse(open(filename, 'r'), 'fasta'),key=lambda s:len(s))\n",
        "  with open('longest_'+filename,'w') as stream:\n",
        "    print(str(scaffold.seq),file = stream)    \n",
        "  print(f'·Количество гэпов: {len(re.findall(\"N{1,}\", str(scaffold.seq)))}')\n",
        "  print(f'·Общая длина гэпов: {str(scaffold.seq).count(\"N\")}')"
      ],
      "metadata": {
        "id": "Lh2UWqTUyeil"
      },
      "execution_count": 5,
      "outputs": []
    },
    {
      "cell_type": "code",
      "source": [
        "gap('Poil_scaffold.fa','До')"
      ],
      "metadata": {
        "colab": {
          "base_uri": "https://localhost:8080/"
        },
        "id": "ayiORBBHyg-P",
        "outputId": "455493e1-444d-4eb9-e7a2-87765bc8ac99"
      },
      "execution_count": 8,
      "outputs": [
        {
          "output_type": "stream",
          "name": "stdout",
          "text": [
            "До gapClosed:\n",
            "·Количество гэпов: 56\n",
            "·Общая длина гэпов: 6719\n"
          ]
        }
      ]
    },
    {
      "cell_type": "code",
      "source": [
        "gap('Poil_gapClosed.fa','После')"
      ],
      "metadata": {
        "colab": {
          "base_uri": "https://localhost:8080/"
        },
        "id": "8syOckMxygzG",
        "outputId": "acdd4303-d1f1-4ca4-f7d5-265bbf69faf6"
      },
      "execution_count": 9,
      "outputs": [
        {
          "output_type": "stream",
          "name": "stdout",
          "text": [
            "После gapClosed:\n",
            "·Количество гэпов: 13\n",
            "·Общая длина гэпов: 4179\n"
          ]
        }
      ]
    }
  ]
}