{
  "nbformat": 4,
  "nbformat_minor": 0,
  "metadata": {
    "colab": {
      "provenance": [],
      "collapsed_sections": []
    },
    "kernelspec": {
      "name": "python3",
      "display_name": "Python 3"
    },
    "language_info": {
      "name": "python"
    }
  },
  "cells": [
    {
      "cell_type": "code",
      "execution_count": 1,
      "metadata": {
        "colab": {
          "base_uri": "https://localhost:8080/"
        },
        "id": "vBPmTRsnjQx2",
        "outputId": "d79abfe2-af7e-4344-9f02-f2ddbf41e9fb"
      },
      "outputs": [
        {
          "output_type": "stream",
          "name": "stdout",
          "text": [
            "Looking in indexes: https://pypi.org/simple, https://us-python.pkg.dev/colab-wheels/public/simple/\n",
            "Collecting biopython\n",
            "  Downloading biopython-1.79-cp37-cp37m-manylinux_2_5_x86_64.manylinux1_x86_64.whl (2.3 MB)\n",
            "\u001b[K     |████████████████████████████████| 2.3 MB 2.1 MB/s \n",
            "\u001b[?25hRequirement already satisfied: numpy in /usr/local/lib/python3.7/dist-packages (from biopython) (1.21.6)\n",
            "Installing collected packages: biopython\n",
            "Successfully installed biopython-1.79\n"
          ]
        }
      ],
      "source": [
        "!pip install biopython"
      ]
    },
    {
      "cell_type": "code",
      "source": [
        "from Bio import SeqIO\n",
        "import re"
      ],
      "metadata": {
        "id": "kdo1rKpCj_eI"
      },
      "execution_count": 2,
      "outputs": []
    },
    {
      "cell_type": "code",
      "source": [
        "def N50(lengths, sum_length):\n",
        "  current_sum_length = 0\n",
        "  for length in sorted(lengths, reverse=True):\n",
        "    current_sum_length += length\n",
        "    if current_sum_length / sum_length >= 0.5:\n",
        "      N50 = length\n",
        "      break\n",
        "  return N50"
      ],
      "metadata": {
        "id": "BRfBaEU5kJEC"
      },
      "execution_count": 3,
      "outputs": []
    },
    {
      "cell_type": "code",
      "source": [
        "def analise(filename, text):\n",
        "  #С помощью SeqIO.parse() получаем итератор из всех последовательностей файла, затем с помощью map() считаем длину каждой и получаем список\n",
        "  lengths = list(map(len, SeqIO.parse(open(filename, 'r'), 'fasta')))\n",
        "  #Общая длина последовательностей\n",
        "  sum_length = sum(lengths)\n",
        "\n",
        "  print(f'Анализ полученных {text}:')\n",
        "  print(f'·Количество: {len(lengths)}')\n",
        "  print(f'·Общая длина: {sum_length}')\n",
        "  print(f'·Максимальная длина: {max(lengths)}')\n",
        "  print(f'·N50: {N50(lengths,sum_length)}')\n",
        "  return"
      ],
      "metadata": {
        "id": "BExJksWMkyid"
      },
      "execution_count": 4,
      "outputs": []
    },
    {
      "cell_type": "code",
      "source": [
        "analise('Poil_contig.fa', 'контигов')"
      ],
      "metadata": {
        "colab": {
          "base_uri": "https://localhost:8080/"
        },
        "id": "1dHNTadglHQe",
        "outputId": "734d2d48-4e00-4f96-ea14-74cf9574a58b"
      },
      "execution_count": 6,
      "outputs": [
        {
          "output_type": "stream",
          "name": "stdout",
          "text": [
            "Анализ полученных контигов:\n",
            "·Количество: 190\n",
            "·Общая длина: 1031446\n",
            "·Максимальная длина: 179304\n",
            "·N50: 47152\n"
          ]
        }
      ]
    },
    {
      "cell_type": "code",
      "source": [
        "analise('Poil_scaffold.fa', 'скаффолдов')"
      ],
      "metadata": {
        "colab": {
          "base_uri": "https://localhost:8080/"
        },
        "id": "sPYTPecqlTzG",
        "outputId": "d8d0f2ed-b307-4cf4-ba0f-7a748c27bd92"
      },
      "execution_count": 7,
      "outputs": [
        {
          "output_type": "stream",
          "name": "stdout",
          "text": [
            "Анализ полученных скаффолдов:\n",
            "·Количество: 1\n",
            "·Общая длина: 1035602\n",
            "·Максимальная длина: 1035602\n",
            "·N50: 1035602\n"
          ]
        }
      ]
    },
    {
      "cell_type": "code",
      "source": [
        "def gap(filename,text):\n",
        "  print(f'{text} gapClosed:')\n",
        "  #Получаем максимально длинный скаффолд\n",
        "  scaffold = max(SeqIO.parse(open(filename, 'r'), 'fasta'),key=lambda s:len(s))\n",
        "  with open('longest_'+filename,'w') as stream:\n",
        "    print(str(scaffold.seq),file = stream)    \n",
        "  print(f'·Количество гэпов: {len(re.findall(\"N{1,}\", str(scaffold.seq)))}')\n",
        "  print(f'·Общая длина гэпов: {str(scaffold.seq).count(\"N\")}')"
      ],
      "metadata": {
        "id": "NErtAMM2lW9_"
      },
      "execution_count": 5,
      "outputs": []
    },
    {
      "cell_type": "code",
      "source": [
        "gap('Poil_scaffold.fa','До')"
      ],
      "metadata": {
        "colab": {
          "base_uri": "https://localhost:8080/"
        },
        "id": "1iy-eRTclagC",
        "outputId": "6d4cb5bf-f951-4a2d-bc53-525c6e682e9b"
      },
      "execution_count": 8,
      "outputs": [
        {
          "output_type": "stream",
          "name": "stdout",
          "text": [
            "До gapClosed:\n",
            "·Количество гэпов: 11\n",
            "·Общая длина гэпов: 980\n"
          ]
        }
      ]
    },
    {
      "cell_type": "code",
      "source": [
        "gap('Poil_gapClosed.fa','После')"
      ],
      "metadata": {
        "colab": {
          "base_uri": "https://localhost:8080/"
        },
        "id": "D13L6_6ElfNJ",
        "outputId": "235ed4b5-b5ed-460e-b53c-4f29b88b9aa2"
      },
      "execution_count": 9,
      "outputs": [
        {
          "output_type": "stream",
          "name": "stdout",
          "text": [
            "После gapClosed:\n",
            "·Количество гэпов: 2\n",
            "·Общая длина гэпов: 515\n"
          ]
        }
      ]
    }
  ]
}